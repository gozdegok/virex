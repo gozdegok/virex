{
  "nbformat": 4,
  "nbformat_minor": 0,
  "metadata": {
    "colab": {
      "name": "Virex_VLast.ipynb",
      "provenance": [],
      "collapsed_sections": []
    },
    "kernelspec": {
      "name": "python3",
      "display_name": "Python 3"
    }
  },
  "cells": [
    {
      "cell_type": "code",
      "metadata": {
        "id": "GlHvlEixahzY"
      },
      "source": [
        "import numpy as np\r\n",
        "import pandas as pd\r\n",
        "import itertools\r\n",
        "import pickle\r\n",
        "import time\r\n",
        "import re\r\n",
        "from sklearn.naive_bayes import MultinomialNB\r\n",
        "from sklearn.feature_extraction.text import CountVectorizer, TfidfTransformer, TfidfVectorizer\r\n",
        "from sklearn.metrics import classification_report, confusion_matrix, accuracy_score\r\n",
        "from sklearn.ensemble import RandomForestClassifier\r\n",
        "from sklearn.model_selection import train_test_split\r\n",
        "from sklearn.svm import SVC\r\n",
        "from multiprocessing.dummy import Pool\r\n",
        "from urllib.request import urlopen\r\n",
        "from sklearn.preprocessing import LabelBinarizer\r\n",
        "import matplotlib.pyplot as plt \r\n",
        "\r\n",
        "pd.set_option('display.max_columns', None)"
      ],
      "execution_count": 4,
      "outputs": []
    },
    {
      "cell_type": "code",
      "metadata": {
        "id": "2B9bdGIt2Jdl"
      },
      "source": [
        "CleanSequenceV = {}\r\n",
        "CleanSequenceH = {}\r\n",
        "urls = []\r\n",
        "dataH = {}\r\n",
        "dataV = {}  \r\n",
        "corruptedVirusData = []\r\n",
        "corruptedHumanData = []\r\n",
        "myCorruptedHumanData = []\r\n",
        "myCorruptedVirusData = []\r\n",
        "VirSeqs = []\r\n",
        "HumSeqs = []\r\n",
        "pd.set_option('display.max_columns', None)"
      ],
      "execution_count": 5,
      "outputs": []
    },
    {
      "cell_type": "code",
      "metadata": {
        "colab": {
          "base_uri": "https://localhost:8080/"
        },
        "id": "TP3AcPKncCMN",
        "outputId": "adce6c32-b9b4-4d86-bcdc-f65ba7545f68"
      },
      "source": [
        "  start = time.time()\r\n",
        "  phi_data = pd.read_csv('phi_data.csv', encoding='unicode_escape')\r\n",
        "  print(\"Pathogen - Host Interaction Data\")\r\n",
        "  print(phi_data)\r\n",
        "\r\n",
        "  with open(\"corrHumanData.txt\", 'rb') as c:\r\n",
        "      myCorruptedHumanData = pickle.load(c)\r\n",
        "  with open(\"corrVirusData.txt\", 'rb') as d:\r\n",
        "      myCorruptedVirusData = pickle.load(d)\r\n",
        "\r\n",
        "  myHumanSequences = pd.read_csv(\"HumanData.csv\")\r\n",
        "  myVirusSequences = pd.read_csv(\"VirusData.csv\")\r\n",
        "\r\n",
        "  end = time.time()\r\n",
        "\r\n",
        "  print(\"Total number of virus-human interaction records: \", len(phi_data))\r\n",
        "\r\n",
        "  uniqueVirus = phi_data['Uniprot ID1'].unique()\r\n",
        "  uniqueHuman = phi_data['Uniprot ID2'].unique()\r\n",
        "\r\n",
        "  print(\"Total unique number of virus protein ids in PHI Data: \", len(uniqueVirus))\r\n",
        "  print(\"Total unique number of human protein ids in PHI Data: \", len(uniqueHuman))\r\n",
        "\r\n",
        "  # runPools(uniqueVirus, uniqueHuman)\r\n",
        "  # Cleaning(dataH, dataV, CleanSequenceH, CleanSequenceV)\r\n",
        "\r\n",
        "  print(end - start, \"seconds\")"
      ],
      "execution_count": 8,
      "outputs": [
        {
          "output_type": "stream",
          "text": [
            "Pathogen - Host Interaction Data\n",
            "                                                Pathogen  Taxonomy ID  \\\n",
            "0                  Human immunodeficiency virus 1 (HIV1)        11676   \n",
            "1                  Human immunodeficiency virus 1 (HIV1)        11676   \n",
            "2                  Human immunodeficiency virus 1 (HIV1)        11676   \n",
            "3                  Human immunodeficiency virus 1 (HIV1)        11676   \n",
            "4                  Human immunodeficiency virus 1 (HIV1)        11676   \n",
            "...                                                  ...          ...   \n",
            "52972                        Mus musculus polyomavirus 1      1891730   \n",
            "52973                                      Rotavirus sp.        10970   \n",
            "52974       Simian immunodeficiency virus ISOLATE MAC239      1173522   \n",
            "52975              Rubella virus STRAIN RA27 / 3 VACCINE        11044   \n",
            "52976  Rotavirus A ISOLATE RVA / HUMAN / BELGIUM / B4...       578843   \n",
            "\n",
            "      Uniprot ID1 Pathogen Protein Uniprot ID2 Human Protein  \\\n",
            "0          Q9WIP8    Q9WIP8_9HIV1       P15311   EZRI_HUMAN    \n",
            "1          Q6JN72    Q6JN72_9HIV1       P28799    GRN_HUMAN    \n",
            "2          P88761    P88761_9HIV1       P62937   PPIA_HUMAN    \n",
            "3          P88585    P88585_9HIV1       P62937   PPIA_HUMAN    \n",
            "4          Q77YG1    Q77YG1_9HIV1       P23284   PPIB_HUMAN    \n",
            "...           ...              ...         ...           ...   \n",
            "52972      P0DOJ6              NaN      Q92793    CBP_HUMAN    \n",
            "52973      P89055              NaN      K7PPA8           NaN   \n",
            "52974      Q88019              NaN      Q8WUM4  PDC6I_HUMAN    \n",
            "52975      O40955              NaN      Q07021  C1QBP_HUMAN    \n",
            "52976      Q3ZK63              NaN      Q04637  IF4G1_HUMAN    \n",
            "\n",
            "                      Experimental Method  Pubmed ID  \n",
            "0      affinity chromatography technology   10893422  \n",
            "1      affinity chromatography technology   10079180  \n",
            "2      affinity chromatography technology    7884893  \n",
            "3      affinity chromatography technology    7884893  \n",
            "4      affinity chromatography technology   15989969  \n",
            "...                                   ...        ...  \n",
            "52972                           pull down   11438528  \n",
            "52973                           pull down   23576507  \n",
            "52974                           pull down   25118280  \n",
            "52975                           pull down   22238231  \n",
            "52976                                 NaN   12086624  \n",
            "\n",
            "[52977 rows x 8 columns]\n",
            "Total number of virus-human interaction records:  52977\n",
            "Total unique number of virus protein ids in PHI Data:  1717\n",
            "Total unique number of human protein ids in PHI Data:  6579\n",
            "0.20949983596801758 seconds\n"
          ],
          "name": "stdout"
        }
      ]
    },
    {
      "cell_type": "code",
      "metadata": {
        "colab": {
          "base_uri": "https://localhost:8080/",
          "height": 295
        },
        "id": "04lWjnoRtusK",
        "outputId": "5e4b2775-f997-4c56-9bfb-87cea2e69084"
      },
      "source": [
        "  Method_Counts=phi_data['Experimental Method'].value_counts()[:20]\r\n",
        "  plt.plot(Method_Counts.values, Method_Counts.index, marker='o') \r\n",
        "  plt.xlabel('Counts') \r\n",
        "  plt.ylabel('Methods') \r\n",
        "  plt.title('Experimental methods in collecting PHI records') \r\n",
        "  plt.show()\r\n"
      ],
      "execution_count": 9,
      "outputs": [
        {
          "output_type": "display_data",
          "data": {
            "image/png": "[encoded data removed]",
            "text/plain": [
              "<Figure size 432x288 with 1 Axes>"
            ]
          },
          "metadata": {
            "tags": [],
            "needs_background": "light"
          }
        }
      ]
    },
    {
      "cell_type": "code",
      "metadata": {
        "colab": {
          "base_uri": "https://localhost:8080/"
        },
        "id": "k-wyanb4wOa5",
        "outputId": "c3b8d888-33f4-4d1d-8ae6-365065edfc00"
      },
      "source": [
        "pathogens=phi_data.drop_duplicates(subset=['Uniprot ID1', 'Uniprot ID2'],keep='first')\r\n",
        "print(pathogens['Pathogen'].value_counts()[:30])"
      ],
      "execution_count": null,
      "outputs": [
        {
          "output_type": "stream",
          "text": [
            "Influenza A virus STRAIN A / Wilson-Smith / 1933 (H1N1)                      6062\n",
            "Influenza A virus STRAIN A / PUERTO RICO / 8 / 1934 (H1N1)                   2570\n",
            "Human herpesvirus 4 (Epstein-Barr virus) STRAIN AG876                        2123\n",
            "Human herpesvirus 4 (Epstein-Barr virus) STRAIN B95-8                        2098\n",
            "Human immunodeficiency virus 1 (HIV1) ISOLATE HXB2                           1891\n",
            "Human immunodeficiency virus 1 (HIV1)                                         849\n",
            "Human herpesvirus 1 STRAIN 17                                                 741\n",
            "Human papillomavirus TYPE 16 (HPV 16)                                         694\n",
            "Human papillomavirus TYPE 18 (HPV 18)                                         674\n",
            "Human papillomavirus TYPE 11 (HPV 11)                                         642\n",
            "Human herpesvirus 8 (Kaposi's sarcoma-associated herpesvirus)                 627\n",
            "Human immunodeficiency virus 1 (HIV1) ISOLATE BRU                             624\n",
            "Hepatitis C virus                                                             615\n",
            "Human papillomavirus TYPE 8 (HPV 8)                                           576\n",
            "Human papillomavirus TYPE 6b (HPV 6b)                                         563\n",
            "Hepatitis C virus ISOLATE CON1                                                497\n",
            "Measles virus STRAIN SCHWARZ                                                  478\n",
            "Human immunodeficiency virus 1 (HIV1) ISOLATE BH10                            437\n",
            "Human herpesvirus 4 (Epstein-Barr virus)                                      423\n",
            "Vaccinia virus STRAIN WR                                                      382\n",
            "Human herpesvirus 8 (Kaposi's sarcoma-associated herpesvirus) STRAIN GK18     364\n",
            "Human immunodeficiency virus 1 ISOLATE YU2                                    358\n",
            "Human immunodeficiency virus 1 (HIV1) ISOLATE ARV2 / SF2                      356\n",
            "Human immunodeficiency virus 1 (HIV1) ISOLATE MN                              354\n",
            "Human immunodeficiency virus 1 (HIV1) ISOLATE RF / HAT                        352\n",
            "Human immunodeficiency virus 1 (HIV1) ISOLATE MAL                             351\n",
            "Human immunodeficiency virus 1 (HIV1) ISOLATE JRCSF                           351\n",
            "Hepatitis C virus ISOLATE JFH-1                                               349\n",
            "Human immunodeficiency virus 1 (HIV1) ISOLATE ELI                             347\n",
            "Macaca mulatta polyomavirus 1                                                 346\n",
            "Name: Pathogen, dtype: int64\n"
          ],
          "name": "stdout"
        }
      ]
    },
    {
      "cell_type": "code",
      "metadata": {
        "id": "Wa1sNBfh2krA"
      },
      "source": [
        "def gatherVirusData(prodId):\r\n",
        "    try:\r\n",
        "        url = \"https://www.uniprot.org/uniprot/\" + str(prodId) + \".fasta\"\r\n",
        "        response = urlopen(url)\r\n",
        "        fasta = response.read().decode(\"utf-8\", \"ignore\")\r\n",
        "        if fasta:\r\n",
        "            dataV[prodId] = fasta\r\n",
        "        else:\r\n",
        "            print(fasta)\r\n",
        "        print(len(dataV))  \r\n",
        "\r\n",
        "    except Exception as ex:\r\n",
        "        print(\"error getting \", prodId, \" exception\",\r\n",
        "              ex) \r\n",
        "        corruptedVirusData.append(prodId)"
      ],
      "execution_count": null,
      "outputs": []
    },
    {
      "cell_type": "code",
      "metadata": {
        "id": "O-3sl9uF2muN"
      },
      "source": [
        "def gatherHumanData(prodId):\r\n",
        "    try:\r\n",
        "        url = \"https://www.uniprot.org/uniprot/\" + str(prodId) + \".fasta\"\r\n",
        "        response = urlopen(url)\r\n",
        "        fasta = response.read().decode(\"utf-8\", \"ignore\")\r\n",
        "        if fasta:\r\n",
        "            dataH[prodId] = fasta\r\n",
        "        else:\r\n",
        "            print(fasta)\r\n",
        "        print(len(dataH))\r\n",
        "\r\n",
        "    except Exception as ex:\r\n",
        "        print(\"error getting \", prodId, \" exception\", ex)\r\n",
        "        corruptedHumanData.append(prodId)"
      ],
      "execution_count": null,
      "outputs": []
    },
    {
      "cell_type": "code",
      "metadata": {
        "id": "HDOm-a8Y2of6"
      },
      "source": [
        "def runPools(uniqueVirus, uniqueHuman):\r\n",
        "    with Pool(5) as maPool:\r\n",
        "        maPool.map(gatherVirusData, uniqueVirus)\r\n",
        "\r\n",
        "    with Pool(5) as maOtherPool:\r\n",
        "        maOtherPool.map(gatherHumanData, uniqueHuman)\r\n",
        "\r\n",
        "    # print(\"Virus protein data\")\r\n",
        "    # print(dataV)\r\n",
        "    print(\"Virus protein sequences length:\", (len(dataV)))\r\n",
        "    # print(\"Human protein data\")\r\n",
        "    # print(dataH)\r\n",
        "    print(\"Human protein sequences length:\", (len(dataH)))\r\n",
        "\r\n",
        "    print(\"Corrupted Human Data Length:\", len(corruptedHumanData))\r\n",
        "    print(\"Corrupted Virus Data Length:\", len(corruptedVirusData))\r\n",
        "    print(\"Corrupted protein ids are saved to a txt file!\")\r\n",
        "   \r\n",
        "    # Gelmeyenleri kaydettim\r\n",
        "    with open(\"corrHumanData.txt\", 'wb') as a:\r\n",
        "        pickle.dump(corruptedHumanData, a)\r\n",
        "\r\n",
        "    with open(\"corrVirusData.txt\", 'wb') as b:\r\n",
        "        pickle.dump(corruptedVirusData, b)"
      ],
      "execution_count": null,
      "outputs": []
    },
    {
      "cell_type": "code",
      "metadata": {
        "id": "8kJG_nLJ2qzN"
      },
      "source": [
        "def cleaning(dataH, dataV):\r\n",
        "    # Boşluk karakterlerini silmek\r\n",
        "    for x, y in dataH.items():\r\n",
        "        CleanSequenceH[x] = y.replace(\"\\n\", '')\r\n",
        "\r\n",
        "    for a, b in dataV.items():\r\n",
        "        CleanSequenceV[a] = b.replace(\"\\n\", '')\r\n",
        "\r\n",
        "    # SV= ibaresini ile başlayan yerleri seçmek ve SV= ibaresini kaldırmak\r\n",
        "    for c, d in CleanSequenceV.items():\r\n",
        "        CleanSequenceV[c] = d[d.find('SV='):].replace(\"SV=\", '')\r\n",
        " \r\n",
        "    # print(CleanSequenceV)\r\n",
        "    # print(len(CleanSequenceV))\r\n",
        "\r\n",
        "    for e, f in CleanSequenceH.items():\r\n",
        "        CleanSequenceH[e] = f[f.find('SV='):].replace(\"SV=\", '')\r\n",
        "\r\n",
        "    # Sadece alfabetik karakterler içermesi\r\n",
        "    for k, l in CleanSequenceV.items():\r\n",
        "        CleanSequenceV[k] = re.sub(\"[^a-zA-Z]+\", \"\", l)\r\n",
        "\r\n",
        "    for m, n in CleanSequenceH.items():\r\n",
        "        CleanSequenceH[m] = re.sub(\"[^a-zA-Z]+\", \"\", n)\r\n",
        "\r\n",
        "    print(\"Sequences are cleaned!\")\r\n",
        "    df_Virus = pd.DataFrame(CleanSequenceV.items(), columns=['VirusProtein', 'VirusSequence'])\r\n",
        "    df_Human = pd.DataFrame(CleanSequenceH.items(), columns=['HumanProtein', 'HumanSequence'])\r\n",
        "\r\n",
        "    print(\"Human proteins with sequences\")\r\n",
        "    print(df_Human)\r\n",
        "    print(\"Virus proteins with sequences\")\r\n",
        "    print(df_Virus)\r\n",
        "    print(\"Cleaned sequences are saved with their ids to a csv file\")\r\n",
        "    df_Virus.to_csv(r'VirusData.csv', index=False)\r\n",
        "    df_Human.to_csv(r'HumanData.csv', index=False)\r\n"
      ],
      "execution_count": null,
      "outputs": []
    },
    {
      "cell_type": "code",
      "metadata": {
        "id": "0-ZIhdVxBulE"
      },
      "source": [
        "#runPools(uniqueVirus[:10], uniqueHuman[:10])"
      ],
      "execution_count": null,
      "outputs": []
    },
    {
      "cell_type": "code",
      "metadata": {
        "id": "0ECT6KKBBxEs"
      },
      "source": [
        "#cleaning(dataH,dataV)"
      ],
      "execution_count": null,
      "outputs": []
    },
    {
      "cell_type": "code",
      "metadata": {
        "colab": {
          "base_uri": "https://localhost:8080/"
        },
        "id": "n-1sT-RDcCUh",
        "outputId": "99341a1b-1479-40e1-a094-93d13e264223"
      },
      "source": [
        "print(\"IDs that cannot be scraped from web\")\r\n",
        "\r\n",
        "print(myCorruptedHumanData)\r\n",
        "print(myCorruptedVirusData)\r\n",
        "\r\n",
        "dataFrameSubPHI = {'HumanProtein': phi_data['Uniprot ID2'].tolist(),\r\n",
        "                    'VirusProtein': phi_data['Uniprot ID1'].tolist()}\r\n",
        "\r\n",
        "PHIPositive = pd.DataFrame(dataFrameSubPHI)\r\n",
        "print(\"True Virus-Human Matches with Protein IDs\")\r\n",
        "print(PHIPositive)\r\n",
        "print(\"Length of it:\", len(PHIPositive))\r\n",
        "\r\n",
        "print(\"Corrupted Proteins of Viruses(All occurences)\")\r\n",
        "print(PHIPositive.loc[PHIPositive['VirusProtein'].isin(myCorruptedVirusData)])\r\n",
        "print(\"Corrupted Proteins of Humans(All occurences)\")\r\n",
        "print(PHIPositive.loc[PHIPositive['HumanProtein'].isin(myCorruptedHumanData)])\r\n",
        "\r\n",
        "print(\"Corrupted virus and human protein ids must be removed from all records\")\r\n",
        "CorruptedProteinsCleaned1 = PHIPositive[~PHIPositive.VirusProtein.isin(myCorruptedVirusData)]\r\n",
        "CorruptedProteinsCleaned2 = CorruptedProteinsCleaned1[\r\n",
        "    ~CorruptedProteinsCleaned1.HumanProtein.isin(myCorruptedHumanData)]\r\n",
        "\r\n",
        "print(\"Cleaning for Virus Proteins\")\r\n",
        "print(CorruptedProteinsCleaned1)\r\n",
        "print(\"Cleaning for Human Proteins\")\r\n",
        "print(CorruptedProteinsCleaned2)\r\n",
        "\r\n",
        "CorruptedProteinsCleaned2 = CorruptedProteinsCleaned2.drop_duplicates(subset=['HumanProtein', 'VirusProtein'],\r\n",
        "                                                                      keep='first')\r\n",
        "\r\n",
        "print(\"Dropping duplicates that are because of experimental method differences\")\r\n",
        "print(CorruptedProteinsCleaned2)\r\n"
      ],
      "execution_count": null,
      "outputs": [
        {
          "output_type": "stream",
          "text": [
            "IDs that cannot be scraped from web\n",
            "['P62158', 'Q96HN2', 'Q13748', 'O43707', 'Q13491', 'A2RUB6', 'O60885', 'P08107', 'Q30KQ2', 'Q04671', 'P62988', 'Q9BZG9', 'Q5W0B1', 'Q9UBM7', 'P0CG06', 'P0CG05', 'A0A024R1Y5', 'Q8TAP4']\n",
            "['P03076', 'P03074', 'P68320', 'P34015']\n",
            "True Virus-Human Matches with Protein IDs\n",
            "      HumanProtein VirusProtein\n",
            "0           P15311       Q9WIP8\n",
            "1           P28799       Q6JN72\n",
            "2           P62937       P88761\n",
            "3           P62937       P88585\n",
            "4           P23284       Q77YG1\n",
            "...            ...          ...\n",
            "52972       Q92793       P0DOJ6\n",
            "52973       K7PPA8       P89055\n",
            "52974       Q8WUM4       Q88019\n",
            "52975       Q07021       O40955\n",
            "52976       Q04637       Q3ZK63\n",
            "\n",
            "[52977 rows x 2 columns]\n",
            "Length of it: 52977\n",
            "Corrupted Proteins of Viruses(All occurences)\n",
            "      HumanProtein VirusProtein\n",
            "35909       P67775       P03076\n",
            "35910       B3KUN1       P03076\n",
            "35994       P27986       P03076\n",
            "35999       Q92793       P03074\n",
            "36000       Q09472       P03074\n",
            "51858       P98179       P68320\n",
            "51862       Q9HC84       P34015\n",
            "51863       P49069       P34015\n",
            "51865       Q92504       P34015\n",
            "52087       A0N0Q3       P34015\n",
            "52088       P47992       P34015\n",
            "52089       O95715       P34015\n",
            "52090       P01374       P34015\n",
            "52091       P78556       P34015\n",
            "52092       P01375       P34015\n",
            "52093       O43927       P34015\n",
            "52094       O15444       P34015\n",
            "52095       P48061       P34015\n",
            "Corrupted Proteins of Humans(All occurences)\n",
            "      HumanProtein VirusProtein\n",
            "938         O43707       B0FAM1\n",
            "1660        O60885       Q77YG0\n",
            "1736        P08107       Q900A7\n",
            "2135        O60885       P69720\n",
            "2919        O60885       P69722\n",
            "...            ...          ...\n",
            "52362       O60885       P03122\n",
            "52367   A0A024R1Y5       P30927\n",
            "52597       O60885       P03122\n",
            "52727       O60885       P03122\n",
            "52905       O60885       P03122\n",
            "\n",
            "[162 rows x 2 columns]\n",
            "Corrupted virus and human protein ids must be removed from all records\n",
            "Cleaning for Virus Proteins\n",
            "      HumanProtein VirusProtein\n",
            "0           P15311       Q9WIP8\n",
            "1           P28799       Q6JN72\n",
            "2           P62937       P88761\n",
            "3           P62937       P88585\n",
            "4           P23284       Q77YG1\n",
            "...            ...          ...\n",
            "52972       Q92793       P0DOJ6\n",
            "52973       K7PPA8       P89055\n",
            "52974       Q8WUM4       Q88019\n",
            "52975       Q07021       O40955\n",
            "52976       Q04637       Q3ZK63\n",
            "\n",
            "[52959 rows x 2 columns]\n",
            "Cleaning for Human Proteins\n",
            "      HumanProtein VirusProtein\n",
            "0           P15311       Q9WIP8\n",
            "1           P28799       Q6JN72\n",
            "2           P62937       P88761\n",
            "3           P62937       P88585\n",
            "4           P23284       Q77YG1\n",
            "...            ...          ...\n",
            "52972       Q92793       P0DOJ6\n",
            "52973       K7PPA8       P89055\n",
            "52974       Q8WUM4       Q88019\n",
            "52975       Q07021       O40955\n",
            "52976       Q04637       Q3ZK63\n",
            "\n",
            "[52797 rows x 2 columns]\n",
            "Dropping duplicates that are because of experimental method differences\n",
            "      HumanProtein VirusProtein\n",
            "0           P15311       Q9WIP8\n",
            "1           P28799       Q6JN72\n",
            "2           P62937       P88761\n",
            "3           P62937       P88585\n",
            "4           P23284       Q77YG1\n",
            "...            ...          ...\n",
            "52972       Q92793       P0DOJ6\n",
            "52973       K7PPA8       P89055\n",
            "52974       Q8WUM4       Q88019\n",
            "52975       Q07021       O40955\n",
            "52976       Q04637       Q3ZK63\n",
            "\n",
            "[39502 rows x 2 columns]\n"
          ],
          "name": "stdout"
        }
      ]
    },
    {
      "cell_type": "code",
      "metadata": {
        "colab": {
          "base_uri": "https://localhost:8080/"
        },
        "id": "I8mDpGF58QMx",
        "outputId": "1318de10-cdf0-403c-9025-91e5cd33fd0f"
      },
      "source": [
        "print(\"Joining ids and sequences for the true matches\")\r\n",
        "\r\n",
        "joinedDFs1 = pd.merge(CorruptedProteinsCleaned2, myVirusSequences\r\n",
        "                      , on='VirusProtein', how='left')\r\n",
        "# print(joinedDFs1)\r\n",
        "\r\n",
        "joinedDFs2 = pd.merge(joinedDFs1, myHumanSequences\r\n",
        "                      , on='HumanProtein', how='left')\r\n",
        "\r\n",
        "print(joinedDFs2)\r\n",
        "\r\n",
        "print(\"Infection column is added!\")\r\n",
        "joinedDFs2['Infection'] = 'True'\r\n",
        "print(joinedDFs2)"
      ],
      "execution_count": null,
      "outputs": [
        {
          "output_type": "stream",
          "text": [
            "Joining ids and sequences for the true matches\n",
            "      HumanProtein VirusProtein  \\\n",
            "0           P15311       Q9WIP8   \n",
            "1           P28799       Q6JN72   \n",
            "2           P62937       P88761   \n",
            "3           P62937       P88585   \n",
            "4           P23284       Q77YG1   \n",
            "...            ...          ...   \n",
            "39497       Q92793       P0DOJ6   \n",
            "39498       K7PPA8       P89055   \n",
            "39499       Q8WUM4       Q88019   \n",
            "39500       Q07021       O40955   \n",
            "39501       Q04637       Q3ZK63   \n",
            "\n",
            "                                           VirusSequence  \\\n",
            "0      MGGKWSKSSIIGSPTVRERMKRAEPAADGVGAVSRDLDKYGAITSS...   \n",
            "1      MEPVDPSLEPWKHPGSQPKTACTNCYCKKCCLHCQVCFMKKGLGIF...   \n",
            "2      PIVQNLQRQIVHQALSPRTLNAWVKVVEEKAFSPEVIPMFSALSEG...   \n",
            "3      ELERFAVNPGLLETSEGCRQILGQLQPSLQTGSEELRSLFITVAVL...   \n",
            "4      MGARASVLSGGELDRWEKIRLRPGGKKKYKLKHIVWASRELERFAV...   \n",
            "...                                                  ...   \n",
            "39497  MDRVLSRADKERLLELLKLPRQLWGDFGRMQQAYKQQSLLLHPDKG...   \n",
            "39498  MATFKDACYHYRKLNKLNGLVLKLGANDAWRPAPIAKYKGWCLDCC...   \n",
            "39499  MGGAISMRRSRPSGDLRQRLLRARGETYGRLLGEVEDGYSQSPGGL...   \n",
            "39500  MERLLDEVLAPGGPYNLTVGSWVRDHVRSIVEGAWEVRDVVSAAQK...   \n",
            "39501  MLKMESTQQMASSIINTSFEAAVVAATSTLELMGIQYDYNEVYTRV...   \n",
            "\n",
            "                                           HumanSequence  \n",
            "0      MPKPINVRVTTMDAELEFAIQPNTTGKQLFDQVVKTIGLREVWYFG...  \n",
            "1      MWTLVSWVALTAGLVAGTRCPDGQFCPVACCLDPGGASYSCCRPLL...  \n",
            "2      MVNPTVFFDIAVDGEPLGRVSFELFADKVPKTAENFRALSTGEKGF...  \n",
            "3      MVNPTVFFDIAVDGEPLGRVSFELFADKVPKTAENFRALSTGEKGF...  \n",
            "4      MLRLSERNMKVLLAAALIAGSVFFLLLPGPSAADEKKKGPKVTVKV...  \n",
            "...                                                  ...  \n",
            "39497  MAENLLDGPPNPKRAKLSSPGFSANDSTDFGSLFDLENDLPDELIP...  \n",
            "39498  MEEPQSDPSVEPPLSQETFSDLWKLLPENNVLSPLPSQAMDDLMLS...  \n",
            "39499  MATFISVQLKKTSEVDLAKPLVKFIQQTYPSGGEEQAQYCRAAEEL...  \n",
            "39500  MLPLLRCVPRVLGSSVAGLRAAAPASPFRQLLQPAPRLCTRPFGLL...  \n",
            "39501  MNKAPQSTGPPPAPSPGLPQPAFPPGQTAPVVFSTPQATQMNTPSQ...  \n",
            "\n",
            "[39502 rows x 4 columns]\n",
            "Infection column is added!\n",
            "      HumanProtein VirusProtein  \\\n",
            "0           P15311       Q9WIP8   \n",
            "1           P28799       Q6JN72   \n",
            "2           P62937       P88761   \n",
            "3           P62937       P88585   \n",
            "4           P23284       Q77YG1   \n",
            "...            ...          ...   \n",
            "39497       Q92793       P0DOJ6   \n",
            "39498       K7PPA8       P89055   \n",
            "39499       Q8WUM4       Q88019   \n",
            "39500       Q07021       O40955   \n",
            "39501       Q04637       Q3ZK63   \n",
            "\n",
            "                                           VirusSequence  \\\n",
            "0      MGGKWSKSSIIGSPTVRERMKRAEPAADGVGAVSRDLDKYGAITSS...   \n",
            "1      MEPVDPSLEPWKHPGSQPKTACTNCYCKKCCLHCQVCFMKKGLGIF...   \n",
            "2      PIVQNLQRQIVHQALSPRTLNAWVKVVEEKAFSPEVIPMFSALSEG...   \n",
            "3      ELERFAVNPGLLETSEGCRQILGQLQPSLQTGSEELRSLFITVAVL...   \n",
            "4      MGARASVLSGGELDRWEKIRLRPGGKKKYKLKHIVWASRELERFAV...   \n",
            "...                                                  ...   \n",
            "39497  MDRVLSRADKERLLELLKLPRQLWGDFGRMQQAYKQQSLLLHPDKG...   \n",
            "39498  MATFKDACYHYRKLNKLNGLVLKLGANDAWRPAPIAKYKGWCLDCC...   \n",
            "39499  MGGAISMRRSRPSGDLRQRLLRARGETYGRLLGEVEDGYSQSPGGL...   \n",
            "39500  MERLLDEVLAPGGPYNLTVGSWVRDHVRSIVEGAWEVRDVVSAAQK...   \n",
            "39501  MLKMESTQQMASSIINTSFEAAVVAATSTLELMGIQYDYNEVYTRV...   \n",
            "\n",
            "                                           HumanSequence Infection  \n",
            "0      MPKPINVRVTTMDAELEFAIQPNTTGKQLFDQVVKTIGLREVWYFG...      True  \n",
            "1      MWTLVSWVALTAGLVAGTRCPDGQFCPVACCLDPGGASYSCCRPLL...      True  \n",
            "2      MVNPTVFFDIAVDGEPLGRVSFELFADKVPKTAENFRALSTGEKGF...      True  \n",
            "3      MVNPTVFFDIAVDGEPLGRVSFELFADKVPKTAENFRALSTGEKGF...      True  \n",
            "4      MLRLSERNMKVLLAAALIAGSVFFLLLPGPSAADEKKKGPKVTVKV...      True  \n",
            "...                                                  ...       ...  \n",
            "39497  MAENLLDGPPNPKRAKLSSPGFSANDSTDFGSLFDLENDLPDELIP...      True  \n",
            "39498  MEEPQSDPSVEPPLSQETFSDLWKLLPENNVLSPLPSQAMDDLMLS...      True  \n",
            "39499  MATFISVQLKKTSEVDLAKPLVKFIQQTYPSGGEEQAQYCRAAEEL...      True  \n",
            "39500  MLPLLRCVPRVLGSSVAGLRAAAPASPFRQLLQPAPRLCTRPFGLL...      True  \n",
            "39501  MNKAPQSTGPPPAPSPGLPQPAFPPGQTAPVVFSTPQATQMNTPSQ...      True  \n",
            "\n",
            "[39502 rows x 5 columns]\n"
          ],
          "name": "stdout"
        }
      ]
    },
    {
      "cell_type": "code",
      "metadata": {
        "colab": {
          "base_uri": "https://localhost:8080/"
        },
        "id": "ANaOqSNUcCYF",
        "outputId": "66b69ed1-f4fc-46c0-ab9a-5d3a87d8f122"
      },
      "source": [
        "cleanedHumanP = [x for x in uniqueHuman if x not in myCorruptedHumanData]\r\n",
        "cleanedVirusP = [y for y in uniqueVirus if y not in myCorruptedVirusData]\r\n",
        "\r\n",
        "print(\"Cartesian Product of the all known pathogen and host ids\")\r\n",
        "AllCombinations = pd.DataFrame(list(itertools.product(cleanedHumanP, cleanedVirusP)),\r\n",
        "                                columns=['HumanProtein', 'VirusProtein'])\r\n",
        "AllCombinations = AllCombinations.drop_duplicates(subset=['HumanProtein', 'VirusProtein'], keep='first')\r\n",
        "print(AllCombinations)\r\n",
        "\r\n",
        "print(\"Labeling records according to where it came from\")\r\n",
        "FalseMatches = AllCombinations.merge(CorruptedProteinsCleaned2, on=['HumanProtein', 'VirusProtein'], how='left', indicator=True)\r\n",
        "print(FalseMatches)\r\n",
        "\r\n",
        "print(\"False PHI Matches\")\r\n",
        "print(\"Dropping if there are duplicate records\")\r\n",
        "FM = FalseMatches[FalseMatches['_merge'] == 'left_only']\r\n",
        "FM = FM.drop_duplicates(subset=['HumanProtein', 'VirusProtein'], keep='first')\r\n",
        "print(FM)\r\n"
      ],
      "execution_count": null,
      "outputs": [
        {
          "output_type": "stream",
          "text": [
            "Cartesian Product of the all known pathogen and host ids\n",
            "         HumanProtein VirusProtein\n",
            "0              P15311       Q9WIP8\n",
            "1              P15311       Q6JN72\n",
            "2              P15311       P88761\n",
            "3              P15311       P88585\n",
            "4              P15311       Q77YG1\n",
            "...               ...          ...\n",
            "11238988       K7PPA8       P0DOJ6\n",
            "11238989       K7PPA8       P89055\n",
            "11238990       K7PPA8       Q88019\n",
            "11238991       K7PPA8       O40955\n",
            "11238992       K7PPA8       Q3ZK63\n",
            "\n",
            "[11238993 rows x 2 columns]\n",
            "Labeling records according to where it came from\n",
            "         HumanProtein VirusProtein     _merge\n",
            "0              P15311       Q9WIP8       both\n",
            "1              P15311       Q6JN72  left_only\n",
            "2              P15311       P88761  left_only\n",
            "3              P15311       P88585  left_only\n",
            "4              P15311       Q77YG1       both\n",
            "...               ...          ...        ...\n",
            "11238988       K7PPA8       P0DOJ6  left_only\n",
            "11238989       K7PPA8       P89055       both\n",
            "11238990       K7PPA8       Q88019  left_only\n",
            "11238991       K7PPA8       O40955  left_only\n",
            "11238992       K7PPA8       Q3ZK63  left_only\n",
            "\n",
            "[11238993 rows x 3 columns]\n",
            "False PHI Matches\n",
            "Dropping if there are duplicate records\n",
            "         HumanProtein VirusProtein     _merge\n",
            "1              P15311       Q6JN72  left_only\n",
            "2              P15311       P88761  left_only\n",
            "3              P15311       P88585  left_only\n",
            "5              P15311       Q77YG0  left_only\n",
            "6              P15311       B9A2Q4  left_only\n",
            "...               ...          ...        ...\n",
            "11238987       K7PPA8       Q08089  left_only\n",
            "11238988       K7PPA8       P0DOJ6  left_only\n",
            "11238990       K7PPA8       Q88019  left_only\n",
            "11238991       K7PPA8       O40955  left_only\n",
            "11238992       K7PPA8       Q3ZK63  left_only\n",
            "\n",
            "[11199491 rows x 3 columns]\n"
          ],
          "name": "stdout"
        }
      ]
    },
    {
      "cell_type": "code",
      "metadata": {
        "colab": {
          "base_uri": "https://localhost:8080/"
        },
        "id": "dq2-qQ4WcCbf",
        "outputId": "279e8b85-0a6c-453a-c2f2-d5e461d211bc"
      },
      "source": [
        "print(\"Merging ids in the negative matches with the sequences\")\r\n",
        "\r\n",
        "joinedDFs3 = pd.merge(FM, myVirusSequences, on='VirusProtein', how='left')\r\n",
        "\r\n",
        "joinedDFs4 = pd.merge(joinedDFs3, myHumanSequences, on='HumanProtein', how='left')\r\n",
        "\r\n",
        "joinedDFs4['Infection'] = 'False'\r\n",
        "\r\n",
        "joinedDFs4 = joinedDFs4.drop(['_merge'], axis=1)\r\n",
        "\r\n",
        "print(joinedDFs4)\r\n",
        "\r\n",
        "TrueAndFalseMatchesTogether = joinedDFs2.append(joinedDFs4, ignore_index=True)\r\n",
        "\r\n",
        "print(\"Positive and Negative Matches are added together\")\r\n",
        "print(TrueAndFalseMatchesTogether)"
      ],
      "execution_count": null,
      "outputs": [
        {
          "output_type": "stream",
          "text": [
            "Merging ids in the false matches with the sequences\n",
            "         HumanProtein VirusProtein  \\\n",
            "0              P15311       Q6JN72   \n",
            "1              P15311       P88761   \n",
            "2              P15311       P88585   \n",
            "3              P15311       Q77YG0   \n",
            "4              P15311       B9A2Q4   \n",
            "...               ...          ...   \n",
            "11199486       K7PPA8       Q08089   \n",
            "11199487       K7PPA8       P0DOJ6   \n",
            "11199488       K7PPA8       Q88019   \n",
            "11199489       K7PPA8       O40955   \n",
            "11199490       K7PPA8       Q3ZK63   \n",
            "\n",
            "                                              VirusSequence  \\\n",
            "0         MEPVDPSLEPWKHPGSQPKTACTNCYCKKCCLHCQVCFMKKGLGIF...   \n",
            "1         PIVQNLQRQIVHQALSPRTLNAWVKVVEEKAFSPEVIPMFSALSEG...   \n",
            "2         ELERFAVNPGLLETSEGCRQILGQLQPSLQTGSEELRSLFITVAVL...   \n",
            "3         MENRWQVMIVWQVDRMRIRTWKSLVKHHMYVSGKARGWFYRHHYES...   \n",
            "4         MGARASVLSGGELDRWEKIRLRPGGKKKYKLKHIVWASRELERFAV...   \n",
            "...                                                     ...   \n",
            "11199486  MVPQALLFVPLLVFPLCFGKFPIYTIPDKLGPWSPIDIHHLSCPNN...   \n",
            "11199487  MDRVLSRADKERLLELLKLPRQLWGDFGRMQQAYKQQSLLLHPDKG...   \n",
            "11199488  MGGAISMRRSRPSGDLRQRLLRARGETYGRLLGEVEDGYSQSPGGL...   \n",
            "11199489  MERLLDEVLAPGGPYNLTVGSWVRDHVRSIVEGAWEVRDVVSAAQK...   \n",
            "11199490  MLKMESTQQMASSIINTSFEAAVVAATSTLELMGIQYDYNEVYTRV...   \n",
            "\n",
            "                                              HumanSequence Infection  \n",
            "0         MPKPINVRVTTMDAELEFAIQPNTTGKQLFDQVVKTIGLREVWYFG...     False  \n",
            "1         MPKPINVRVTTMDAELEFAIQPNTTGKQLFDQVVKTIGLREVWYFG...     False  \n",
            "2         MPKPINVRVTTMDAELEFAIQPNTTGKQLFDQVVKTIGLREVWYFG...     False  \n",
            "3         MPKPINVRVTTMDAELEFAIQPNTTGKQLFDQVVKTIGLREVWYFG...     False  \n",
            "4         MPKPINVRVTTMDAELEFAIQPNTTGKQLFDQVVKTIGLREVWYFG...     False  \n",
            "...                                                     ...       ...  \n",
            "11199486  MEEPQSDPSVEPPLSQETFSDLWKLLPENNVLSPLPSQAMDDLMLS...     False  \n",
            "11199487  MEEPQSDPSVEPPLSQETFSDLWKLLPENNVLSPLPSQAMDDLMLS...     False  \n",
            "11199488  MEEPQSDPSVEPPLSQETFSDLWKLLPENNVLSPLPSQAMDDLMLS...     False  \n",
            "11199489  MEEPQSDPSVEPPLSQETFSDLWKLLPENNVLSPLPSQAMDDLMLS...     False  \n",
            "11199490  MEEPQSDPSVEPPLSQETFSDLWKLLPENNVLSPLPSQAMDDLMLS...     False  \n",
            "\n",
            "[11199491 rows x 5 columns]\n",
            "True and False Matches are added together\n",
            "         HumanProtein VirusProtein  \\\n",
            "0              P15311       Q9WIP8   \n",
            "1              P28799       Q6JN72   \n",
            "2              P62937       P88761   \n",
            "3              P62937       P88585   \n",
            "4              P23284       Q77YG1   \n",
            "...               ...          ...   \n",
            "11238988       K7PPA8       Q08089   \n",
            "11238989       K7PPA8       P0DOJ6   \n",
            "11238990       K7PPA8       Q88019   \n",
            "11238991       K7PPA8       O40955   \n",
            "11238992       K7PPA8       Q3ZK63   \n",
            "\n",
            "                                              VirusSequence  \\\n",
            "0         MGGKWSKSSIIGSPTVRERMKRAEPAADGVGAVSRDLDKYGAITSS...   \n",
            "1         MEPVDPSLEPWKHPGSQPKTACTNCYCKKCCLHCQVCFMKKGLGIF...   \n",
            "2         PIVQNLQRQIVHQALSPRTLNAWVKVVEEKAFSPEVIPMFSALSEG...   \n",
            "3         ELERFAVNPGLLETSEGCRQILGQLQPSLQTGSEELRSLFITVAVL...   \n",
            "4         MGARASVLSGGELDRWEKIRLRPGGKKKYKLKHIVWASRELERFAV...   \n",
            "...                                                     ...   \n",
            "11238988  MVPQALLFVPLLVFPLCFGKFPIYTIPDKLGPWSPIDIHHLSCPNN...   \n",
            "11238989  MDRVLSRADKERLLELLKLPRQLWGDFGRMQQAYKQQSLLLHPDKG...   \n",
            "11238990  MGGAISMRRSRPSGDLRQRLLRARGETYGRLLGEVEDGYSQSPGGL...   \n",
            "11238991  MERLLDEVLAPGGPYNLTVGSWVRDHVRSIVEGAWEVRDVVSAAQK...   \n",
            "11238992  MLKMESTQQMASSIINTSFEAAVVAATSTLELMGIQYDYNEVYTRV...   \n",
            "\n",
            "                                              HumanSequence Infection  \n",
            "0         MPKPINVRVTTMDAELEFAIQPNTTGKQLFDQVVKTIGLREVWYFG...      True  \n",
            "1         MWTLVSWVALTAGLVAGTRCPDGQFCPVACCLDPGGASYSCCRPLL...      True  \n",
            "2         MVNPTVFFDIAVDGEPLGRVSFELFADKVPKTAENFRALSTGEKGF...      True  \n",
            "3         MVNPTVFFDIAVDGEPLGRVSFELFADKVPKTAENFRALSTGEKGF...      True  \n",
            "4         MLRLSERNMKVLLAAALIAGSVFFLLLPGPSAADEKKKGPKVTVKV...      True  \n",
            "...                                                     ...       ...  \n",
            "11238988  MEEPQSDPSVEPPLSQETFSDLWKLLPENNVLSPLPSQAMDDLMLS...     False  \n",
            "11238989  MEEPQSDPSVEPPLSQETFSDLWKLLPENNVLSPLPSQAMDDLMLS...     False  \n",
            "11238990  MEEPQSDPSVEPPLSQETFSDLWKLLPENNVLSPLPSQAMDDLMLS...     False  \n",
            "11238991  MEEPQSDPSVEPPLSQETFSDLWKLLPENNVLSPLPSQAMDDLMLS...     False  \n",
            "11238992  MEEPQSDPSVEPPLSQETFSDLWKLLPENNVLSPLPSQAMDDLMLS...     False  \n",
            "\n",
            "[11238993 rows x 5 columns]\n"
          ],
          "name": "stdout"
        }
      ]
    },
    {
      "cell_type": "code",
      "metadata": {
        "id": "IE5GoKRlnYDN"
      },
      "source": [
        "#joinedDFs4.to_csv('HealthyRecords.csv')\r\n",
        "#joinedDFs2.to_csv('InfectionRecords.csv')"
      ],
      "execution_count": null,
      "outputs": []
    },
    {
      "cell_type": "code",
      "metadata": {
        "colab": {
          "base_uri": "https://localhost:8080/"
        },
        "id": "Dn4I_BgzcUqz",
        "outputId": "ce2affd0-9575-4b02-f3d3-32d6ebd531be"
      },
      "source": [
        "shuffled=TrueAndFalseMatchesTogether[:100000]\r\n",
        "X = shuffled['VirusSequence'].astype('U').values\r\n",
        "\r\n",
        "print(\"Vectorization for Virus Sequences\")\r\n",
        "countVect = CountVectorizer(analyzer='char')\r\n",
        "\r\n",
        "tf1 = countVect.fit_transform(X)\r\n",
        "tfidfconverter = TfidfTransformer()\r\n",
        "my_tfdf1 = pd.DataFrame(tf1.toarray(), columns=countVect.get_feature_names())\r\n",
        "\r\n",
        "print(my_tfdf1)\r\n",
        "tf1 = tfidfconverter.fit_transform(tf1)\r\n",
        "my_tfdf1 = pd.DataFrame(tf1.toarray(), columns=countVect.get_feature_names())\r\n",
        "\r\n",
        "#tf_df1.to_csv(r'VirusVector.csv', index=False)\r\n",
        "\r\n",
        "print(my_tfdf1)"
      ],
      "execution_count": null,
      "outputs": [
        {
          "output_type": "stream",
          "text": [
            "Vectorization for Virus Sequences\n",
            "        a   c   d   e   f   g   h   i   k   l   m   n   p   q   r   s   t   v  \\\n",
            "0      15   4  12  18   7  16   8   7  14  19   7   6  13   7   9  14   7  10   \n",
            "1       3   7   5   6   2   6   3   1  15   4   2   2  11   8   7   8   5   3   \n",
            "2      11   0   3   9   2   6   4   5   3   8   4   5   9   8   5   5   5   9   \n",
            "3       8   2   3  11   2   6   1   6   8  10   2   5   4  14   4   9   7   8   \n",
            "4      37  10  14  40  11  38  10  26  36  36  16  24  33  34  31  29  31  25   \n",
            "...    ..  ..  ..  ..  ..  ..  ..  ..  ..  ..  ..  ..  ..  ..  ..  ..  ..  ..   \n",
            "99995   6   1   2  10   3   7   4   9   1   9   1   3   4   7  12   4   4   2   \n",
            "99996   1   7   5   6   1   6   3   1  12   4   1   2  12   9   8   8   8   4   \n",
            "99997   3   2   5  11   1   9   0   5   3  13   1   5  10   6  16   9   9   5   \n",
            "99998  17   4  13  19   7  16   9   5  13  17   5   6  15   7  12  10  10  16   \n",
            "99999  42  21  28  53  25  57  12  67  51  81  18  57  27  43  48  50  59  60   \n",
            "\n",
            "        w  x   y  \n",
            "0       6  0   7  \n",
            "1       1  0   2  \n",
            "2       2  0   0  \n",
            "3       0  0   2  \n",
            "4       9  0  10  \n",
            "...    .. ..  ..  \n",
            "99995   3  0   4  \n",
            "99996   1  0   2  \n",
            "99997   1  0   2  \n",
            "99998   7  0   8  \n",
            "99999  27  0  22  \n",
            "\n",
            "[100000 rows x 21 columns]\n",
            "              a         c         d         e         f         g         h  \\\n",
            "0      0.297573  0.083907  0.239091  0.359477  0.143948  0.318371  0.162329   \n",
            "1      0.107291  0.264714  0.179594  0.216018  0.074144  0.215231  0.109740   \n",
            "2      0.410135  0.000000  0.112340  0.337810  0.077298  0.224386  0.152545   \n",
            "3      0.265680  0.070232  0.100062  0.367755  0.068850  0.199863  0.033968   \n",
            "4      0.301068  0.086040  0.114412  0.327657  0.092781  0.310140  0.083227   \n",
            "...         ...       ...       ...       ...       ...       ...       ...   \n",
            "99995  0.232137  0.040910  0.077715  0.389484  0.120315  0.271646  0.158291   \n",
            "99996  0.035712  0.264332  0.179335  0.215706  0.037018  0.214920  0.109582   \n",
            "99997  0.091897  0.064781  0.153827  0.339211  0.031753  0.276525  0.000000   \n",
            "99998  0.321319  0.079944  0.246781  0.361525  0.137148  0.303333  0.173994   \n",
            "99999  0.201386  0.106472  0.134840  0.255830  0.124258  0.274136  0.058852   \n",
            "\n",
            "              i         k         l         m         n         p         q  \\\n",
            "0      0.140061  0.286275  0.376203  0.139512  0.121889  0.260997  0.140117   \n",
            "1      0.036071  0.552951  0.142780  0.071859  0.073246  0.398130  0.288684   \n",
            "2      0.188028  0.115295  0.297708  0.149832  0.190904  0.339599  0.300964   \n",
            "3      0.200973  0.273850  0.331463  0.066728  0.170040  0.134437  0.469125   \n",
            "4      0.213380  0.301939  0.292369  0.130796  0.199980  0.271748  0.279147   \n",
            "...         ...       ...       ...       ...       ...       ...       ...   \n",
            "99995  0.351199  0.039879  0.347538  0.038869  0.118857  0.156619  0.273264   \n",
            "99996  0.036019  0.441721  0.142574  0.035878  0.073140  0.433696  0.324300   \n",
            "99997  0.154479  0.094723  0.397457  0.030775  0.156842  0.310006  0.185449   \n",
            "99998  0.095318  0.253271  0.320703  0.094944  0.116132  0.286925  0.133499   \n",
            "99999  0.324020  0.252060  0.387642  0.086709  0.279876  0.131019  0.208036   \n",
            "\n",
            "              r         s         t         v         w    x         y  \n",
            "0      0.179573  0.277438  0.139900  0.197750  0.127538  0.0  0.142325  \n",
            "1      0.251789  0.285803  0.180148  0.106949  0.038320  0.0  0.073308  \n",
            "2      0.187500  0.186225  0.187811  0.334496  0.079901  0.0  0.000000  \n",
            "3      0.133606  0.298571  0.234199  0.264834  0.000000  0.0  0.068074  \n",
            "4      0.253701  0.235720  0.254122  0.202776  0.078468  0.0  0.083396  \n",
            "...         ...       ...       ...       ...       ...  ...       ...  \n",
            "99995  0.466951  0.154593  0.155909  0.077133  0.124366  0.0  0.158611  \n",
            "99996  0.287343  0.285390  0.287821  0.142393  0.038265  0.0  0.073202  \n",
            "99997  0.492944  0.275397  0.277742  0.152674  0.032822  0.0  0.062790  \n",
            "99998  0.228122  0.188809  0.190417  0.301455  0.141767  0.0  0.154974  \n",
            "99999  0.231482  0.239489  0.285003  0.286778  0.138717  0.0  0.108114  \n",
            "\n",
            "[100000 rows x 21 columns]\n"
          ],
          "name": "stdout"
        }
      ]
    },
    {
      "cell_type": "code",
      "metadata": {
        "colab": {
          "base_uri": "https://localhost:8080/"
        },
        "id": "eQWt325wcU3B",
        "outputId": "601bf48f-fef0-4c28-efa3-4667e91c693e"
      },
      "source": [
        "Y = shuffled.Infection\r\n",
        "other_X = shuffled['HumanSequence'].astype('U').values\r\n",
        "\r\n",
        "print(\"Vectorization for Human Sequences\")\r\n",
        "tf3 = countVect.fit_transform(other_X)\r\n",
        "my_tfdf3 = pd.DataFrame(tf3.toarray(), columns=countVect.get_feature_names())\r\n",
        "print(my_tfdf3)\r\n",
        "\r\n",
        "tf3 = tfidfconverter.fit_transform(tf3)\r\n",
        "my_tfdf3 = pd.DataFrame(tf3.toarray(), columns=countVect.get_feature_names())\r\n",
        "print(my_tfdf3)"
      ],
      "execution_count": null,
      "outputs": [
        {
          "output_type": "stream",
          "text": [
            "Vectorization for Human Sequences\n",
            "        a   c   d   e   f   g   h   i   k   l   m   n   p   q   r   s   t  u  \\\n",
            "0      39   2  34  77  17  20  12  30  55  55  15  20  24  43  47  18  24  0   \n",
            "1      47  88  36  20  13  47  27   8  16  34   8   9  50  29  33  44  34  0   \n",
            "2       9   4   7  12  15  23   4  10  14   7   5   9   6   3   6   8  11  0   \n",
            "3       9   4   7  12  15  23   4  10  14   7   5   9   6   3   6   8  11  0   \n",
            "4      14   1  15  12  16  25   3  11  26  15   5   6   8   2   9   9  12  0   \n",
            "...    ..  ..  ..  ..  ..  ..  ..  ..  ..  ..  ..  ..  ..  ..  ..  ..  .. ..   \n",
            "99995  33   1  29  55  10  14   6  15  22  55  10  23   9  33  43  43  25  0   \n",
            "99996  33   1  29  55  10  14   6  15  22  55  10  23   9  33  43  43  25  0   \n",
            "99997  33   1  29  55  10  14   6  15  22  55  10  23   9  33  43  43  25  0   \n",
            "99998  33   1  29  55  10  14   6  15  22  55  10  23   9  33  43  43  25  0   \n",
            "99999  33   1  29  55  10  14   6  15  22  55  10  23   9  33  43  43  25  0   \n",
            "\n",
            "        v   w  x   y  \n",
            "0      28   7  0  19  \n",
            "1      34  10  0   6  \n",
            "2       9   1  0   2  \n",
            "3       9   1  0   2  \n",
            "4      21   2  0   4  \n",
            "...    ..  .. ..  ..  \n",
            "99995  26   1  0  13  \n",
            "99996  26   1  0  13  \n",
            "99997  26   1  0  13  \n",
            "99998  26   1  0  13  \n",
            "99999  26   1  0  13  \n",
            "\n",
            "[100000 rows x 22 columns]\n",
            "              a         c         d         e         f         g         h  \\\n",
            "0      0.252871  0.013436  0.220562  0.499378  0.110538  0.129710  0.078297   \n",
            "1      0.292540  0.567492  0.224185  0.124515  0.081145  0.292613  0.169113   \n",
            "2      0.208276  0.095906  0.162074  0.277768  0.348111  0.532395  0.093150   \n",
            "3      0.208276  0.095906  0.162074  0.277768  0.348111  0.532395  0.093150   \n",
            "4      0.240834  0.017823  0.258166  0.206479  0.276019  0.430169  0.051932   \n",
            "...         ...       ...       ...       ...       ...       ...       ...   \n",
            "99995  0.260840  0.008189  0.229338  0.434838  0.079266  0.110687  0.047724   \n",
            "99996  0.260840  0.008189  0.229338  0.434838  0.079266  0.110687  0.047724   \n",
            "99997  0.260840  0.008189  0.229338  0.434838  0.079266  0.110687  0.047724   \n",
            "99998  0.260840  0.008189  0.229338  0.434838  0.079266  0.110687  0.047724   \n",
            "99999  0.260840  0.008189  0.229338  0.434838  0.079266  0.110687  0.047724   \n",
            "\n",
            "              i         k         l         m         n         p         q  \\\n",
            "0      0.194812  0.356759  0.356756  0.097271  0.129761  0.155780  0.278996   \n",
            "1      0.049870  0.099629  0.211709  0.049800  0.056054  0.311546  0.180626   \n",
            "2      0.231770  0.324118  0.162058  0.115724  0.208410  0.139000  0.069473   \n",
            "3      0.231770  0.324118  0.162058  0.115724  0.208410  0.139000  0.069473   \n",
            "4      0.189515  0.447447  0.258140  0.086023  0.103281  0.137767  0.034428   \n",
            "...         ...       ...       ...       ...       ...       ...       ...   \n",
            "99995  0.118744  0.173965  0.434908  0.079053  0.181914  0.071214  0.261018   \n",
            "99996  0.118744  0.173965  0.434908  0.079053  0.181914  0.071214  0.261018   \n",
            "99997  0.118744  0.173965  0.434908  0.079053  0.181914  0.071214  0.261018   \n",
            "99998  0.118744  0.173965  0.434908  0.079053  0.181914  0.071214  0.261018   \n",
            "99999  0.118744  0.173965  0.434908  0.079053  0.181914  0.071214  0.261018   \n",
            "\n",
            "              r         s         t    u         v         w    x         y  \n",
            "0      0.304968  0.116753  0.155661  0.0  0.181592  0.051184  0.0  0.123707  \n",
            "1      0.205552  0.273968  0.211690  0.0  0.211675  0.070192  0.0  0.037501  \n",
            "2      0.138954  0.185203  0.254639  0.0  0.208326  0.026097  0.0  0.046477  \n",
            "3      0.138954  0.185203  0.254639  0.0  0.208326  0.026097  0.0  0.046477  \n",
            "4      0.154937  0.154879  0.206493  0.0  0.361338  0.038799  0.0  0.069097  \n",
            "...         ...       ...       ...  ...       ...       ...  ...       ...  \n",
            "99995  0.340134  0.340008  0.197667  0.0  0.205560  0.008914  0.0  0.103184  \n",
            "99996  0.340134  0.340008  0.197667  0.0  0.205560  0.008914  0.0  0.103184  \n",
            "99997  0.340134  0.340008  0.197667  0.0  0.205560  0.008914  0.0  0.103184  \n",
            "99998  0.340134  0.340008  0.197667  0.0  0.205560  0.008914  0.0  0.103184  \n",
            "99999  0.340134  0.340008  0.197667  0.0  0.205560  0.008914  0.0  0.103184  \n",
            "\n",
            "[100000 rows x 22 columns]\n"
          ],
          "name": "stdout"
        }
      ]
    },
    {
      "cell_type": "code",
      "metadata": {
        "colab": {
          "base_uri": "https://localhost:8080/"
        },
        "id": "HVdtdjEYHMrE",
        "outputId": "4737f6dd-4f94-496e-d4a9-bd26ca0a7656"
      },
      "source": [
        "print(\"Vectorization for Labels\")\r\n",
        "lb = LabelBinarizer()\r\n",
        "vector_y = lb.fit_transform(Y)\r\n",
        "print(vector_y)\r\n",
        "\r\n",
        "#with open(\"vector_infection.txt\", 'wb') as a:\r\n",
        "#  pickle.dump(vector_y, a)\r\n",
        "\r\n",
        "#tf_df3.to_csv(r'HumanVector.csv', index=False)\r\n",
        "\r\n",
        "#shuffled = TrueAndFalseMatchesTogether.sample(frac=1)"
      ],
      "execution_count": null,
      "outputs": [
        {
          "output_type": "stream",
          "text": [
            "Vectorization for Labels\n",
            "[[1]\n",
            " [1]\n",
            " [1]\n",
            " ...\n",
            " [0]\n",
            " [0]\n",
            " [0]]\n"
          ],
          "name": "stdout"
        }
      ]
    },
    {
      "cell_type": "code",
      "metadata": {
        "colab": {
          "base_uri": "https://localhost:8080/"
        },
        "id": "6oIsBr5-cCeS",
        "outputId": "3e953781-9915-4c56-8630-9a7168c86dfd"
      },
      "source": [
        "intersection_columns = [value for value in my_tfdf3.columns if value in my_tfdf1.columns]\r\n",
        "liste=[]\r\n",
        "\r\n",
        "my_tfdf1.fillna(0)\r\n",
        "my_tfdf3.fillna(0)\r\n",
        "my_tfdf1.reset_index(drop=True)\r\n",
        "my_tfdf3.reset_index(drop=True)\r\n",
        "\r\n",
        "for row in range (len(my_tfdf1['a'])):\r\n",
        "  temp_col=[]\r\n",
        "  for columnName in intersection_columns:\r\n",
        "    value = (my_tfdf1[columnName][row] + my_tfdf3[columnName][row])/2\r\n",
        "    temp_col.append(value)\r\n",
        "  liste.append(temp_col)\r\n",
        "\r\n",
        "df = pd.DataFrame(liste,columns=intersection_columns)\r\n",
        "df['u'] = my_tfdf3['u']\r\n",
        "print(\"Average of Human & Virus Dataframes\")\r\n",
        "print(df)\r\n",
        "\r\n",
        "#df.to_csv(r'AvgVector.csv', index=False)\r\n",
        "\r\n",
        "#shuffled = TrueAndFalseMatchesTogether.sample(frac=1)"
      ],
      "execution_count": null,
      "outputs": [
        {
          "output_type": "stream",
          "text": [
            "Average of Training\n",
            "              a         c         d         e         f         g         h  \\\n",
            "0      0.275222  0.048671  0.229827  0.429428  0.127243  0.224041  0.120313   \n",
            "1      0.199915  0.416103  0.201890  0.170266  0.077644  0.253922  0.139427   \n",
            "2      0.309206  0.047953  0.137207  0.307789  0.212705  0.378391  0.122848   \n",
            "3      0.236978  0.083069  0.131068  0.322762  0.208481  0.366129  0.063559   \n",
            "4      0.270951  0.051931  0.186289  0.267068  0.184400  0.370154  0.067580   \n",
            "...         ...       ...       ...       ...       ...       ...       ...   \n",
            "99995  0.246489  0.024550  0.153526  0.412161  0.099791  0.191166  0.103008   \n",
            "99996  0.148276  0.136260  0.204336  0.325272  0.058142  0.162803  0.078653   \n",
            "99997  0.176369  0.036485  0.191582  0.387025  0.055510  0.193606  0.023862   \n",
            "99998  0.291080  0.044067  0.238059  0.398181  0.108207  0.207010  0.110859   \n",
            "99999  0.231113  0.057331  0.182089  0.345334  0.101762  0.192412  0.053288   \n",
            "\n",
            "              i         k         l         m         n         p         q  \\\n",
            "0      0.167437  0.321517  0.366479  0.118391  0.125825  0.208388  0.209557   \n",
            "1      0.042970  0.326290  0.177245  0.060830  0.064650  0.354838  0.234655   \n",
            "2      0.209899  0.219706  0.229883  0.132778  0.199657  0.239299  0.185219   \n",
            "3      0.216372  0.298984  0.246760  0.091226  0.189225  0.136718  0.269299   \n",
            "4      0.201447  0.374693  0.275254  0.108410  0.151630  0.204758  0.156788   \n",
            "...         ...       ...       ...       ...       ...       ...       ...   \n",
            "99995  0.234972  0.106922  0.391223  0.058961  0.150386  0.113916  0.267141   \n",
            "99996  0.077382  0.307843  0.288741  0.057465  0.127527  0.252455  0.292659   \n",
            "99997  0.136611  0.134344  0.416182  0.054914  0.169378  0.190610  0.223233   \n",
            "99998  0.107031  0.213618  0.377805  0.086998  0.149023  0.179070  0.197258   \n",
            "99999  0.221382  0.213012  0.411275  0.082881  0.230895  0.101117  0.234527   \n",
            "\n",
            "              r         s         t         v         w    x         y    u  \n",
            "0      0.242271  0.197095  0.147781  0.189671  0.089361  0.0  0.133016  0.0  \n",
            "1      0.228671  0.279886  0.195919  0.159312  0.054256  0.0  0.055405  0.0  \n",
            "2      0.163227  0.185714  0.221225  0.271411  0.052999  0.0  0.023238  0.0  \n",
            "3      0.136280  0.241887  0.244419  0.236580  0.013049  0.0  0.057275  0.0  \n",
            "4      0.204319  0.195300  0.230308  0.282057  0.058634  0.0  0.076246  0.0  \n",
            "...         ...       ...       ...       ...       ...  ...       ...  ...  \n",
            "99995  0.403543  0.247300  0.176788  0.141346  0.066640  0.0  0.130897  0.0  \n",
            "99996  0.313739  0.312699  0.242744  0.173976  0.023589  0.0  0.088193  0.0  \n",
            "99997  0.416539  0.307702  0.237705  0.179117  0.020868  0.0  0.082987  0.0  \n",
            "99998  0.284128  0.264409  0.194042  0.253507  0.075340  0.0  0.129079  0.0  \n",
            "99999  0.285808  0.289749  0.241335  0.246169  0.073816  0.0  0.105649  0.0  \n",
            "\n",
            "[100000 rows x 22 columns]\n"
          ],
          "name": "stdout"
        }
      ]
    },
    {
      "cell_type": "code",
      "metadata": {
        "id": "R_C7LkR4awcv",
        "colab": {
          "base_uri": "https://localhost:8080/"
        },
        "outputId": "1265187c-a815-449e-b74b-6e4714681496"
      },
      "source": [
        "X_train, X_test, y_train, y_test = train_test_split(df, vector_y, test_size=0.2, random_state=1)\r\n",
        "classifier = RandomForestClassifier(n_estimators=1000, random_state=0)\r\n",
        "classifier.fit(X_train, y_train)\r\n",
        "y_pred = classifier.predict(X_test)\r\n",
        "\r\n",
        "print(confusion_matrix(y_test, y_pred))\r\n",
        "print(classification_report(y_test, y_pred))\r\n",
        "print(accuracy_score(y_test, y_pred))"
      ],
      "execution_count": null,
      "outputs": [
        {
          "output_type": "stream",
          "text": [
            "/usr/local/lib/python3.6/dist-packages/ipykernel_launcher.py:3: DataConversionWarning: A column-vector y was passed when a 1d array was expected. Please change the shape of y to (n_samples,), for example using ravel().\n",
            "  This is separate from the ipykernel package so we can avoid doing imports until\n"
          ],
          "name": "stderr"
        },
        {
          "output_type": "stream",
          "text": [
            "[[11677   298]\n",
            " [  911  7114]]\n",
            "              precision    recall  f1-score   support\n",
            "\n",
            "           0       0.93      0.98      0.95     11975\n",
            "           1       0.96      0.89      0.92      8025\n",
            "\n",
            "    accuracy                           0.94     20000\n",
            "   macro avg       0.94      0.93      0.94     20000\n",
            "weighted avg       0.94      0.94      0.94     20000\n",
            "\n",
            "0.93955\n"
          ],
          "name": "stdout"
        }
      ]
    },
    {
      "cell_type": "code",
      "metadata": {
        "colab": {
          "base_uri": "https://localhost:8080/"
        },
        "id": "wapKXbO6bKFG",
        "outputId": "5775bd5a-2bf8-4b8f-c226-92561680e194"
      },
      "source": [
        "classifier = SVC(kernel='rbf', random_state = 1)\r\n",
        "classifier.fit(X_train,y_train)\r\n",
        "y_pred = classifier.predict(X_test)\r\n",
        "\r\n",
        "print(confusion_matrix(y_test, y_pred))\r\n",
        "print(classification_report(y_test, y_pred))\r\n",
        "print(accuracy_score(y_test, y_pred))"
      ],
      "execution_count": null,
      "outputs": [
        {
          "output_type": "stream",
          "text": [
            "/usr/local/lib/python3.6/dist-packages/sklearn/utils/validation.py:760: DataConversionWarning: A column-vector y was passed when a 1d array was expected. Please change the shape of y to (n_samples, ), for example using ravel().\n",
            "  y = column_or_1d(y, warn=True)\n"
          ],
          "name": "stderr"
        },
        {
          "output_type": "stream",
          "text": [
            "[[11105   870]\n",
            " [ 2019  6006]]\n",
            "              precision    recall  f1-score   support\n",
            "\n",
            "           0       0.85      0.93      0.88     11975\n",
            "           1       0.87      0.75      0.81      8025\n",
            "\n",
            "    accuracy                           0.86     20000\n",
            "   macro avg       0.86      0.84      0.85     20000\n",
            "weighted avg       0.86      0.86      0.85     20000\n",
            "\n",
            "0.85555\n"
          ],
          "name": "stdout"
        }
      ]
    },
    {
      "cell_type": "code",
      "metadata": {
        "colab": {
          "base_uri": "https://localhost:8080/"
        },
        "id": "GVu3gDBPJ0Tk",
        "outputId": "92dd3b55-7b2e-4946-815e-f0eb8f8f8a25"
      },
      "source": [
        "model = MultinomialNB()\r\n",
        "model.fit(X_train,y_train)\r\n",
        "y_pred= model.predict(X_test)\r\n",
        "\r\n",
        "print(confusion_matrix(y_test, y_pred))\r\n",
        "print(classification_report(y_test, y_pred))\r\n",
        "print(accuracy_score(y_test, y_pred))"
      ],
      "execution_count": null,
      "outputs": [
        {
          "output_type": "stream",
          "text": [
            "[[11975     0]\n",
            " [ 8022     3]]\n",
            "              precision    recall  f1-score   support\n",
            "\n",
            "           0       0.60      1.00      0.75     11975\n",
            "           1       1.00      0.00      0.00      8025\n",
            "\n",
            "    accuracy                           0.60     20000\n",
            "   macro avg       0.80      0.50      0.37     20000\n",
            "weighted avg       0.76      0.60      0.45     20000\n",
            "\n",
            "0.5989\n"
          ],
          "name": "stdout"
        },
        {
          "output_type": "stream",
          "text": [
            "/usr/local/lib/python3.6/dist-packages/sklearn/utils/validation.py:760: DataConversionWarning: A column-vector y was passed when a 1d array was expected. Please change the shape of y to (n_samples, ), for example using ravel().\n",
            "  y = column_or_1d(y, warn=True)\n"
          ],
          "name": "stderr"
        }
      ]
    }
  ]
}